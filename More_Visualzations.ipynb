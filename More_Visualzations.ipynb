{
  "nbformat": 4,
  "nbformat_minor": 0,
  "metadata": {
    "colab": {
      "provenance": [],
      "authorship_tag": "ABX9TyM7ZaOILRG3FZ0dll3Q1OlJ"
    },
    "kernelspec": {
      "name": "python3",
      "display_name": "Python 3"
    },
    "language_info": {
      "name": "python"
    }
  },
  "cells": [
    {
      "cell_type": "code",
      "execution_count": 1,
      "metadata": {
        "id": "H-GdhzAqaOKs"
      },
      "outputs": [],
      "source": [
        "import pandas as pd\n",
        "import numpy as np\n",
        "import matplotlib.pyplot as plt\n",
        "\n",
        "%matplotlib inline"
      ]
    },
    {
      "cell_type": "markdown",
      "source": [
        "##Global API"
      ],
      "metadata": {
        "id": "QGU9tXXmic4E"
      }
    },
    {
      "cell_type": "code",
      "source": [],
      "metadata": {
        "id": "iWaVWFDwiXk_"
      },
      "execution_count": null,
      "outputs": []
    }
  ]
}